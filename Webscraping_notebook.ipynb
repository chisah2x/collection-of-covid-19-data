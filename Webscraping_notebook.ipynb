{
  "cells": [
    {
      "cell_type": "markdown",
      "source": [
        "# Web scraping COVID-19 data\n",
        "Note: This file works only on the local machine with firefox. will NOT WORK on google colab, or online jupyter."
      ],
      "metadata": {
        "id": "uvkP3KkfaWul"
      },
      "id": "uvkP3KkfaWul"
    },
    {
      "cell_type": "markdown",
      "source": [
        "##importing necesary libraries"
      ],
      "metadata": {
        "id": "brQvrjPtaqRh"
      },
      "id": "brQvrjPtaqRh"
    },
    {
      "cell_type": "code",
      "execution_count": null,
      "id": "dc4164f3",
      "metadata": {
        "id": "dc4164f3"
      },
      "outputs": [],
      "source": [
        "from selenium import *\n",
        "from selenium import webdriver\n",
        "from selenium.common.exceptions import TimeoutException\n",
        "from selenium.webdriver.chrome.options import Options\n",
        "from selenium.webdriver.common.by import By\n",
        "from selenium.webdriver.support import expected_conditions as EC\n",
        "from selenium.webdriver.support.ui import WebDriverWait"
      ]
    },
    {
      "cell_type": "markdown",
      "source": [
        "##connnecting webdriver with  Mozilla Firefox web browser"
      ],
      "metadata": {
        "id": "_dLAwtX6cWBg"
      },
      "id": "_dLAwtX6cWBg"
    },
    {
      "cell_type": "code",
      "execution_count": null,
      "id": "efa4f4ac",
      "metadata": {
        "id": "efa4f4ac"
      },
      "outputs": [],
      "source": [
        "driver = webdriver.Firefox(executable_path = \"C:\\\\Users\\\\chira\\\\Downloads\\\\geckodriver-v0.31.0-win64\\\\geckodriver.exe\")"
      ]
    },
    {
      "cell_type": "code",
      "execution_count": null,
      "id": "215a9588",
      "metadata": {
        "id": "215a9588"
      },
      "outputs": [],
      "source": [
        "driver.get(\"https://www.covid19india.org//\")"
      ]
    },
    {
      "cell_type": "code",
      "execution_count": null,
      "id": "14b84f6e",
      "metadata": {
        "id": "14b84f6e"
      },
      "outputs": [],
      "source": [
        "timeout = 10\n",
        "try :\n",
        "    WebDriverWait( driver, timeout).until(EC.visibility_of_element_located((By.CLASS_NAME, \"level-vaccinated\")))\n",
        "except TimeoutException :\n",
        "    driver.quit()"
      ]
    },
    {
      "cell_type": "markdown",
      "source": [
        "##found the appropriate tag using inspect feature, finding current stats of covid-19"
      ],
      "metadata": {
        "id": "ug4pWC27dMW-"
      },
      "id": "ug4pWC27dMW-"
    },
    {
      "cell_type": "code",
      "execution_count": null,
      "id": "a6f08485",
      "metadata": {
        "id": "a6f08485",
        "outputId": "84b3fffc-3b01-49ca-8124-32d09aae0364"
      },
      "outputs": [
        {
          "name": "stdout",
          "output_type": "stream",
          "text": [
            "Confirmed\n",
            "+ 12,907\n",
            "3,42,85,612\n",
            "Active\n",
            " 1,52,606\n",
            "Recovered\n",
            "+ 13,152\n",
            "3,36,61,339\n",
            "Deceased\n",
            "+ 251\n",
            "4,58,470\n"
          ]
        }
      ],
      "source": [
        "cases_current_stats = driver.find_element( By.CLASS_NAME, \"Level\").text\n",
        "\n",
        "print( cases_current_stats)\n",
        "# print( type())"
      ]
    },
    {
      "cell_type": "markdown",
      "source": [
        "###formatting current stats"
      ],
      "metadata": {
        "id": "hmw-d86rd3s8"
      },
      "id": "hmw-d86rd3s8"
    },
    {
      "cell_type": "code",
      "execution_count": null,
      "id": "716652ca",
      "metadata": {
        "id": "716652ca",
        "outputId": "86b5320a-a567-481c-cc69-ba34380385bf"
      },
      "outputs": [
        {
          "name": "stdout",
          "output_type": "stream",
          "text": [
            "['Confirmed', '+ 12,907', '3,42,85,612', 'Active', ' 1,52,606', 'Recovered', '+ 13,152', '3,36,61,339', 'Deceased', '+ 251', '4,58,470']\n"
          ]
        }
      ],
      "source": [
        "cs_list = cases_current_stats.split(\"\\n\")\n",
        "print(cs_list)"
      ]
    },
    {
      "cell_type": "markdown",
      "source": [
        "##Total tested till now"
      ],
      "metadata": {
        "id": "J42S8LvJeaja"
      },
      "id": "J42S8LvJeaja"
    },
    {
      "cell_type": "code",
      "execution_count": null,
      "id": "11204b62",
      "metadata": {
        "id": "11204b62",
        "outputId": "fd6a1646-7fe7-451a-aa18-8c85b12fc71f"
      },
      "outputs": [
        {
          "name": "stdout",
          "output_type": "stream",
          "text": [
            " Total_Tested :  60,92,01,294\n"
          ]
        }
      ],
      "source": [
        "tested_current_states = driver.find_element( By.CLASS_NAME, \"header-right\")\n",
        "print( ' Total_Tested : ', tested_current_states.text.split('\\n')[1])\n"
      ]
    },
    {
      "cell_type": "code",
      "execution_count": null,
      "id": "4f2488ea",
      "metadata": {
        "id": "4f2488ea",
        "outputId": "842afa8a-73ea-4378-b663-c7bd4de1d40a"
      },
      "outputs": [
        {
          "name": "stdout",
          "output_type": "stream",
          "text": [
            "<selenium.webdriver.firefox.webelement.FirefoxWebElement (session=\"008ddf34-bfd4-4ee0-8b56-c8b73e43fad2\", element=\"f086acb3-bdee-463e-baa7-5647e2e35043\")>\n"
          ]
        }
      ],
      "source": [
        "print(tested_current_states) # bcoz its an object"
      ]
    },
    {
      "cell_type": "code",
      "execution_count": null,
      "id": "ee5c7042",
      "metadata": {
        "id": "ee5c7042",
        "outputId": "b451f881-f4e9-4236-d54e-4ac1a0097805"
      },
      "outputs": [
        {
          "name": "stdout",
          "output_type": "stream",
          "text": [
            "1,06,31,24,205\n"
          ]
        }
      ],
      "source": [
        "#dir(tested_current_states)\n",
        "vaccination_current_stats = driver.find_element( By.CLASS_NAME, \"level-vaccinated\")\n",
        "vcs = vaccination_current_stats.text.split('\\n')[0]\n",
        "print( vcs)"
      ]
    },
    {
      "cell_type": "code",
      "execution_count": null,
      "id": "39c15d6e",
      "metadata": {
        "id": "39c15d6e"
      },
      "outputs": [],
      "source": [
        "vaccination_alo_prog_bar = driver.find_element( By.CLASS_NAME, \"progress-bar\")\n",
        "vaccination_fv_prog_bar = driver.find_elements_by_class_name( \"label\")"
      ]
    },
    {
      "cell_type": "markdown",
      "source": [
        "##finding vaccinated stats"
      ],
      "metadata": {
        "id": "yp4UmFhue-6e"
      },
      "id": "yp4UmFhue-6e"
    },
    {
      "cell_type": "code",
      "execution_count": null,
      "id": "e591b682",
      "metadata": {
        "id": "e591b682",
        "outputId": "455f1e50-aaf4-4adb-ad6f-9c5553717f5d"
      },
      "outputs": [
        {
          "name": "stdout",
          "output_type": "stream",
          "text": [
            "Total vaccine doses :  1,06,31,24,205\n",
            "Atleast one doses :  0%\n",
            "Fully vaccinated :  0%\n"
          ]
        }
      ],
      "source": [
        "fvl = vaccination_fv_prog_bar[1].text.split('(')\n",
        "fvl = fvl[1].split(')')\n",
        "\n",
        "print( \"Total vaccine doses : \", vcs)\n",
        "print( \"Atleast one doses : \", vaccination_alo_prog_bar.text)\n",
        "print( \"Fully vaccinated : \", fvl[0])"
      ]
    },
    {
      "cell_type": "markdown",
      "source": [
        "##statewise cases distribution "
      ],
      "metadata": {
        "id": "ETmhXYxQfgLl"
      },
      "id": "ETmhXYxQfgLl"
    },
    {
      "cell_type": "code",
      "execution_count": null,
      "id": "2cee549c",
      "metadata": {
        "id": "2cee549c"
      },
      "outputs": [],
      "source": [
        "category_element = driver.find_element( By.CLASS_NAME, \"Table\").text\n",
        "#print( category_element)"
      ]
    },
    {
      "cell_type": "code",
      "source": [
        "# category_list = category_element.split('\\n')\n",
        "print( category_list)"
      ],
      "metadata": {
        "id": "mPhCvrN2f7xj"
      },
      "id": "mPhCvrN2f7xj",
      "execution_count": null,
      "outputs": []
    },
    {
      "cell_type": "code",
      "execution_count": null,
      "id": "88b88f20",
      "metadata": {
        "id": "88b88f20",
        "outputId": "e672e92d-7f98-4e0a-cf37-bae0ad675c75"
      },
      "outputs": [
        {
          "name": "stdout",
          "output_type": "stream",
          "text": [
            "29,41,578\n"
          ]
        }
      ],
      "source": [
        "temp = category_list[38]\n",
        "print(temp)"
      ]
    },
    {
      "cell_type": "code",
      "execution_count": null,
      "id": "f7b907ff",
      "metadata": {
        "id": "f7b907ff",
        "outputId": "47be29d7-2b82-4a12-b48b-e26bb5b7d044"
      },
      "outputs": [
        {
          "name": "stdout",
          "output_type": "stream",
          "text": [
            "↑ ↓\n"
          ]
        }
      ],
      "source": [
        "up_arrow = chr(8593)\n",
        "down_arrow = chr( 8595)\n",
        "print( up_arrow, down_arrow)"
      ]
    },
    {
      "cell_type": "markdown",
      "source": [
        "###removing up_arrow and down_arrow elements"
      ],
      "metadata": {
        "id": "dRqKLBuxgDgB"
      },
      "id": "dRqKLBuxgDgB"
    },
    {
      "cell_type": "code",
      "execution_count": null,
      "id": "06421bad",
      "metadata": {
        "id": "06421bad",
        "outputId": "71a5e674-4c27-4662-a323-2a2ab480461e"
      },
      "outputs": [
        {
          "name": "stdout",
          "output_type": "stream",
          "text": [
            "['1L', '7D', 'State/UT', 'Confirmed', 'Active', 'Recovered', 'Deceased', 'Tested', 'Vaccine Doses Administered', 'Maharashtra', '66,11,078', '16,658', '64,50,585', '1,40,216', '6.3Cr', '9.8Cr', 'Kerala', '49,68,657', '79,266', '48,57,181', '31,681', '3.8Cr', '3.9Cr', 'Karnataka', '29,88,333', '8,644', '29,41,578', '38,082', '5.1Cr', '6.5Cr', 'Tamil Nadu', '27,02,623', '11,492', '26,55,015', '36,116', '5.1Cr', '5.9Cr', 'Andhra Pradesh', '20,66,450', '4,355', '20,47,722', '14,373', '3Cr', '5.3Cr', 'Uttar Pradesh', '17,10,158', '107', '16,87,151', '22,900', '8.4Cr', '13.1Cr', 'West Bengal', '15,92,908', '8,296', '15,65,471', '19,141', '1.9Cr', '7.8Cr', 'Delhi', '14,39,870', '348', '14,14,431', '25,091', '2.9Cr', '2Cr', 'Odisha', '10,41,457', '3,924', '10,29,147', '8,386', '2.2Cr', '3.7Cr', 'Chhattisgarh', '10,06,052', '316', '9,92,159', '13,577', '1.4Cr', '2.2Cr', 'Rajasthan', '9,54,429', '32', '9,45,443', '8,954', '1.5Cr', '6.3Cr', 'Gujarat', '8,26,577', '205', '8,16,283', '10,089', '3.1Cr', '7.1Cr', 'Madhya Pradesh', '7,92,854', '115', '7,82,215', '10,524', '2Cr', '7.1Cr', 'Haryana', '7,71,252', '135', '7,61,068', '10,049', '1.3Cr', '2.6Cr', 'Bihar', '7,26,098', '46', '7,16,390', '9,661', '5.1Cr', '6.8Cr', 'Telangana', '6,71,463', '4,009', '6,63,498', '3,956', '2.8Cr', '3.2Cr', 'Assam', '6,10,645', '2,327', '6,00,974', '5,997', '2.5Cr', '2.8Cr', 'Punjab', '6,02,401', '251', '5,85,591', '16,559', '1.5Cr', '2.2Cr', 'Jharkhand', '3,48,764', '108', '3,43,518', '5,138', '1.6Cr', '2.1Cr', 'Uttarakhand', '3,43,896', '151', '3,30,195', '7,400', '77.8L', '1.1Cr', 'Jammu and Kashmir', '3,32,249', '902', '3,26,915', '4,432', '1.6Cr', '1.5Cr', 'Himachal Pradesh', '2,24,106', '1,942', '2,18,410', '3,738', '36.9L', '91.6L', 'Goa', '1,78,108', '352', '1,74,392', '3,364', '14.7L', '21.7L', 'Puducherry', '1,28,013', '430', '1,25,726', '1,857', '19.2L', '11.4L', 'Manipur', '1,23,731', '708', '1,21,102', '1,921', '13.7L', '19.7L', 'Mizoram', '1,21,359', '6,315', '1,14,612', '432', '13L', '12.2L', 'Tripura', '84,468', '126', '83,466', '813', '19.8L', '41.3L', 'Meghalaya', '83,627', '431', '81,746', '1,450', '11.5L', '17.5L', 'Chandigarh', '65,351', '36', '64,495', '820', '7.9L', '14.7L', 'Arunachal Pradesh', '55,155', '101', '54,774', '280', '11.9L', '13.1L', 'Sikkim', '31,979', '195', '31,063', '396', '2.6L', '9.7L', 'Nagaland', '31,842', '210', '29,904', '685', '4L', '12L', 'Ladakh', '20,962', '67', '20,687', '208', '5.6L', '3.6L', 'Dadra and Nagar Haveli and Daman and Diu', '10,681', '2', '10,644', '4', '-', '10.3L', 'Lakshadweep', '10,365', '0', '10,270', '51', '2.6L', '1L', 'Andaman and Nicobar Islands', '7,651', '4', '7,518', '129', '6L', '4.9L', 'India', '3,42,85,612', '1,52,606', '3,36,61,339', '4,58,470', '60.9Cr', '106.3Cr']\n"
          ]
        }
      ],
      "source": [
        "for x in category_list :\n",
        "    for y in range(len( x)) :\n",
        "        i = x[y]\n",
        "        if i==up_arrow :\n",
        "            category_list.remove(x)\n",
        "        if i==down_arrow :\n",
        "            category_list.remove(x)\n",
        "        \n",
        "print( category_list)"
      ]
    },
    {
      "cell_type": "markdown",
      "source": [
        "###organizing data into 2D list by it's proper field"
      ],
      "metadata": {
        "id": "nJt0qVTSgP2J"
      },
      "id": "nJt0qVTSgP2J"
    },
    {
      "cell_type": "code",
      "execution_count": null,
      "id": "c4aa31d6",
      "metadata": {
        "id": "c4aa31d6",
        "outputId": "4f205f54-301c-4ef3-f599-563f67c42fc9"
      },
      "outputs": [
        {
          "name": "stdout",
          "output_type": "stream",
          "text": [
            "268\n"
          ]
        }
      ],
      "source": [
        "l = len( category_list)\n",
        "print( l)"
      ]
    },
    {
      "cell_type": "code",
      "execution_count": null,
      "id": "e91735a0",
      "metadata": {
        "id": "e91735a0",
        "outputId": "1e65aceb-83a6-4015-8c65-bae50aedad99"
      },
      "outputs": [
        {
          "name": "stdout",
          "output_type": "stream",
          "text": [
            "38.0\n"
          ]
        }
      ],
      "source": [
        "total_row = ( l-2) / 7 \n",
        "print( total_row)"
      ]
    },
    {
      "cell_type": "code",
      "execution_count": null,
      "id": "7d5c244f",
      "metadata": {
        "id": "7d5c244f",
        "outputId": "4d197803-e53b-4cbb-b5d0-87a989c180c7"
      },
      "outputs": [
        {
          "name": "stdout",
          "output_type": "stream",
          "text": [
            "[['State/UT', 'Confirmed', 'Active', 'Recovered', 'Deceased', 'Tested', 'Vaccine Doses Administered'], ['Maharashtra', '66,11,078', '16,658', '64,50,585', '1,40,216', '6.3Cr', '9.8Cr'], ['Kerala', '49,68,657', '79,266', '48,57,181', '31,681', '3.8Cr', '3.9Cr'], ['Karnataka', '29,88,333', '8,644', '29,41,578', '38,082', '5.1Cr', '6.5Cr'], ['Tamil Nadu', '27,02,623', '11,492', '26,55,015', '36,116', '5.1Cr', '5.9Cr'], ['Andhra Pradesh', '20,66,450', '4,355', '20,47,722', '14,373', '3Cr', '5.3Cr'], ['Uttar Pradesh', '17,10,158', '107', '16,87,151', '22,900', '8.4Cr', '13.1Cr'], ['West Bengal', '15,92,908', '8,296', '15,65,471', '19,141', '1.9Cr', '7.8Cr'], ['Delhi', '14,39,870', '348', '14,14,431', '25,091', '2.9Cr', '2Cr'], ['Odisha', '10,41,457', '3,924', '10,29,147', '8,386', '2.2Cr', '3.7Cr'], ['Chhattisgarh', '10,06,052', '316', '9,92,159', '13,577', '1.4Cr', '2.2Cr'], ['Rajasthan', '9,54,429', '32', '9,45,443', '8,954', '1.5Cr', '6.3Cr'], ['Gujarat', '8,26,577', '205', '8,16,283', '10,089', '3.1Cr', '7.1Cr'], ['Madhya Pradesh', '7,92,854', '115', '7,82,215', '10,524', '2Cr', '7.1Cr'], ['Haryana', '7,71,252', '135', '7,61,068', '10,049', '1.3Cr', '2.6Cr'], ['Bihar', '7,26,098', '46', '7,16,390', '9,661', '5.1Cr', '6.8Cr'], ['Telangana', '6,71,463', '4,009', '6,63,498', '3,956', '2.8Cr', '3.2Cr'], ['Assam', '6,10,645', '2,327', '6,00,974', '5,997', '2.5Cr', '2.8Cr'], ['Punjab', '6,02,401', '251', '5,85,591', '16,559', '1.5Cr', '2.2Cr'], ['Jharkhand', '3,48,764', '108', '3,43,518', '5,138', '1.6Cr', '2.1Cr'], ['Uttarakhand', '3,43,896', '151', '3,30,195', '7,400', '77.8L', '1.1Cr'], ['Jammu and Kashmir', '3,32,249', '902', '3,26,915', '4,432', '1.6Cr', '1.5Cr'], ['Himachal Pradesh', '2,24,106', '1,942', '2,18,410', '3,738', '36.9L', '91.6L'], ['Goa', '1,78,108', '352', '1,74,392', '3,364', '14.7L', '21.7L'], ['Puducherry', '1,28,013', '430', '1,25,726', '1,857', '19.2L', '11.4L'], ['Manipur', '1,23,731', '708', '1,21,102', '1,921', '13.7L', '19.7L'], ['Mizoram', '1,21,359', '6,315', '1,14,612', '432', '13L', '12.2L'], ['Tripura', '84,468', '126', '83,466', '813', '19.8L', '41.3L'], ['Meghalaya', '83,627', '431', '81,746', '1,450', '11.5L', '17.5L'], ['Chandigarh', '65,351', '36', '64,495', '820', '7.9L', '14.7L'], ['Arunachal Pradesh', '55,155', '101', '54,774', '280', '11.9L', '13.1L'], ['Sikkim', '31,979', '195', '31,063', '396', '2.6L', '9.7L'], ['Nagaland', '31,842', '210', '29,904', '685', '4L', '12L'], ['Ladakh', '20,962', '67', '20,687', '208', '5.6L', '3.6L'], ['Dadra and Nagar Haveli and Daman and Diu', '10,681', '2', '10,644', '4', '-', '10.3L'], ['Lakshadweep', '10,365', '0', '10,270', '51', '2.6L', '1L'], ['Andaman and Nicobar Islands', '7,651', '4', '7,518', '129', '6L', '4.9L'], ['India', '3,42,85,612', '1,52,606', '3,36,61,339', '4,58,470', '60.9Cr', '106.3Cr']]\n"
          ]
        }
      ],
      "source": [
        "data_for_table = []\n",
        "i = 2\n",
        "j = 9\n",
        "num_row = 0\n",
        "count = 9\n",
        "while num_row < total_row :\n",
        "    temp_list = []\n",
        "    while i<j :\n",
        "        temp_list.append(category_list[i])\n",
        "        i +=1\n",
        "        count +=1\n",
        "        \n",
        "    data_for_table.append( temp_list)\n",
        "    j= count\n",
        "    num_row +=1\n",
        "    \n",
        "print( data_for_table)"
      ]
    },
    {
      "cell_type": "markdown",
      "source": [
        "###storing first row separatrely and removing first row from 2d list"
      ],
      "metadata": {
        "id": "PT705BVzgjGF"
      },
      "id": "PT705BVzgjGF"
    },
    {
      "cell_type": "code",
      "execution_count": null,
      "id": "1e1c0d47",
      "metadata": {
        "id": "1e1c0d47",
        "outputId": "34756eec-82d2-45da-d219-1dd3713a22a9"
      },
      "outputs": [
        {
          "name": "stdout",
          "output_type": "stream",
          "text": [
            "['State/UT', 'Confirmed', 'Active', 'Recovered', 'Deceased', 'Tested', 'Vaccine Doses Administered']\n",
            "new_data \n",
            "\n",
            " [['Maharashtra', '66,11,078', '16,658', '64,50,585', '1,40,216', '6.3Cr', '9.8Cr'], ['Kerala', '49,68,657', '79,266', '48,57,181', '31,681', '3.8Cr', '3.9Cr'], ['Karnataka', '29,88,333', '8,644', '29,41,578', '38,082', '5.1Cr', '6.5Cr'], ['Tamil Nadu', '27,02,623', '11,492', '26,55,015', '36,116', '5.1Cr', '5.9Cr'], ['Andhra Pradesh', '20,66,450', '4,355', '20,47,722', '14,373', '3Cr', '5.3Cr'], ['Uttar Pradesh', '17,10,158', '107', '16,87,151', '22,900', '8.4Cr', '13.1Cr'], ['West Bengal', '15,92,908', '8,296', '15,65,471', '19,141', '1.9Cr', '7.8Cr'], ['Delhi', '14,39,870', '348', '14,14,431', '25,091', '2.9Cr', '2Cr'], ['Odisha', '10,41,457', '3,924', '10,29,147', '8,386', '2.2Cr', '3.7Cr'], ['Chhattisgarh', '10,06,052', '316', '9,92,159', '13,577', '1.4Cr', '2.2Cr'], ['Rajasthan', '9,54,429', '32', '9,45,443', '8,954', '1.5Cr', '6.3Cr'], ['Gujarat', '8,26,577', '205', '8,16,283', '10,089', '3.1Cr', '7.1Cr'], ['Madhya Pradesh', '7,92,854', '115', '7,82,215', '10,524', '2Cr', '7.1Cr'], ['Haryana', '7,71,252', '135', '7,61,068', '10,049', '1.3Cr', '2.6Cr'], ['Bihar', '7,26,098', '46', '7,16,390', '9,661', '5.1Cr', '6.8Cr'], ['Telangana', '6,71,463', '4,009', '6,63,498', '3,956', '2.8Cr', '3.2Cr'], ['Assam', '6,10,645', '2,327', '6,00,974', '5,997', '2.5Cr', '2.8Cr'], ['Punjab', '6,02,401', '251', '5,85,591', '16,559', '1.5Cr', '2.2Cr'], ['Jharkhand', '3,48,764', '108', '3,43,518', '5,138', '1.6Cr', '2.1Cr'], ['Uttarakhand', '3,43,896', '151', '3,30,195', '7,400', '77.8L', '1.1Cr'], ['Jammu and Kashmir', '3,32,249', '902', '3,26,915', '4,432', '1.6Cr', '1.5Cr'], ['Himachal Pradesh', '2,24,106', '1,942', '2,18,410', '3,738', '36.9L', '91.6L'], ['Goa', '1,78,108', '352', '1,74,392', '3,364', '14.7L', '21.7L'], ['Puducherry', '1,28,013', '430', '1,25,726', '1,857', '19.2L', '11.4L'], ['Manipur', '1,23,731', '708', '1,21,102', '1,921', '13.7L', '19.7L'], ['Mizoram', '1,21,359', '6,315', '1,14,612', '432', '13L', '12.2L'], ['Tripura', '84,468', '126', '83,466', '813', '19.8L', '41.3L'], ['Meghalaya', '83,627', '431', '81,746', '1,450', '11.5L', '17.5L'], ['Chandigarh', '65,351', '36', '64,495', '820', '7.9L', '14.7L'], ['Arunachal Pradesh', '55,155', '101', '54,774', '280', '11.9L', '13.1L'], ['Sikkim', '31,979', '195', '31,063', '396', '2.6L', '9.7L'], ['Nagaland', '31,842', '210', '29,904', '685', '4L', '12L'], ['Ladakh', '20,962', '67', '20,687', '208', '5.6L', '3.6L'], ['Dadra and Nagar Haveli and Daman and Diu', '10,681', '2', '10,644', '4', '-', '10.3L'], ['Lakshadweep', '10,365', '0', '10,270', '51', '2.6L', '1L'], ['Andaman and Nicobar Islands', '7,651', '4', '7,518', '129', '6L', '4.9L'], ['India', '3,42,85,612', '1,52,606', '3,36,61,339', '4,58,470', '60.9Cr', '106.3Cr']]\n"
          ]
        }
      ],
      "source": [
        "column_names = data_for_table[0]\n",
        "print(column_names)\n",
        "data_for_table.pop(0)\n",
        "\n",
        "print(\"new_data \\n\\n\", data_for_table)"
      ]
    },
    {
      "cell_type": "markdown",
      "source": [
        "###converting 2d list into dataframe"
      ],
      "metadata": {
        "id": "7lm16YU-g0lG"
      },
      "id": "7lm16YU-g0lG"
    },
    {
      "cell_type": "code",
      "execution_count": null,
      "id": "7b315363",
      "metadata": {
        "id": "7b315363",
        "outputId": "350c516c-e8bf-40f6-fed1-d1e82d0b65a6"
      },
      "outputs": [
        {
          "name": "stdout",
          "output_type": "stream",
          "text": [
            "         State/UT  Confirmed  Active  Recovered  Deceased Tested  \\\n",
            "0     Maharashtra  66,11,078  16,658  64,50,585  1,40,216  6.3Cr   \n",
            "1          Kerala  49,68,657  79,266  48,57,181    31,681  3.8Cr   \n",
            "2       Karnataka  29,88,333   8,644  29,41,578    38,082  5.1Cr   \n",
            "3      Tamil Nadu  27,02,623  11,492  26,55,015    36,116  5.1Cr   \n",
            "4  Andhra Pradesh  20,66,450   4,355  20,47,722    14,373    3Cr   \n",
            "\n",
            "  Vaccine Doses Administered  \n",
            "0                      9.8Cr  \n",
            "1                      3.9Cr  \n",
            "2                      6.5Cr  \n",
            "3                      5.9Cr  \n",
            "4                      5.3Cr  \n",
            "                                    State/UT    Confirmed    Active  \\\n",
            "32                                    Ladakh       20,962        67   \n",
            "33  Dadra and Nagar Haveli and Daman and Diu       10,681         2   \n",
            "34                               Lakshadweep       10,365         0   \n",
            "35               Andaman and Nicobar Islands        7,651         4   \n",
            "36                                     India  3,42,85,612  1,52,606   \n",
            "\n",
            "      Recovered  Deceased  Tested Vaccine Doses Administered  \n",
            "32       20,687       208    5.6L                       3.6L  \n",
            "33       10,644         4       -                      10.3L  \n",
            "34       10,270        51    2.6L                         1L  \n",
            "35        7,518       129      6L                       4.9L  \n",
            "36  3,36,61,339  4,58,470  60.9Cr                    106.3Cr  \n"
          ]
        }
      ],
      "source": [
        "import pandas as pd\n",
        "df = pd.DataFrame( data_for_table, columns = column_names)\n",
        "\n",
        "print(df.head())\n",
        "print(df.tail())"
      ]
    },
    {
      "cell_type": "markdown",
      "source": [
        "###storing data into csv format for further analysis"
      ],
      "metadata": {
        "id": "7KvY_JM0g7nM"
      },
      "id": "7KvY_JM0g7nM"
    },
    {
      "cell_type": "code",
      "execution_count": null,
      "id": "30cef7c3",
      "metadata": {
        "id": "30cef7c3"
      },
      "outputs": [],
      "source": [
        "df.to_csv(\"covid-data.csv\", index = False)"
      ]
    },
    {
      "cell_type": "code",
      "execution_count": null,
      "id": "d637cf9f",
      "metadata": {
        "id": "d637cf9f"
      },
      "outputs": [],
      "source": [
        "driver.quit()"
      ]
    }
  ],
  "metadata": {
    "kernelspec": {
      "display_name": "Python 3 (ipykernel)",
      "language": "python",
      "name": "python3"
    },
    "language_info": {
      "codemirror_mode": {
        "name": "ipython",
        "version": 3
      },
      "file_extension": ".py",
      "mimetype": "text/x-python",
      "name": "python",
      "nbconvert_exporter": "python",
      "pygments_lexer": "ipython3",
      "version": "3.9.7"
    },
    "colab": {
      "name": "Webscraping_notebook.ipynb",
      "provenance": []
    }
  },
  "nbformat": 4,
  "nbformat_minor": 5
}